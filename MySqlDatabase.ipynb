{
 "cells": [
  {
   "cell_type": "code",
   "execution_count": 1,
   "id": "8ff43ce5-8bc7-4515-9c19-de9e706fe8da",
   "metadata": {},
   "outputs": [],
   "source": [
    "import mysql.connector\n",
    "import keyring\n"
   ]
  },
  {
   "cell_type": "code",
   "execution_count": 41,
   "id": "e7345cc2-6ce6-41cd-9cd8-77c28ce3c93f",
   "metadata": {},
   "outputs": [],
   "source": [
    "db = mysql.connector.connect(\n",
    "    host=\"localhost\",\n",
    "    user=\"stefan\",\n",
    "    passwd=\"Gigelfrone112!!\",\n",
    "    auth_plugin = 'mysql_native_password',\n",
    "    database = \"declaratiiavere\",\n",
    ")\n",
    "\n",
    "mycursor = db.cursor()"
   ]
  },
  {
   "cell_type": "code",
   "execution_count": null,
   "id": "d11d46e7-4c5e-428c-b019-ceccd43c1e15",
   "metadata": {},
   "outputs": [],
   "source": [
    "mycursor.execute(\"SHOW tables;\")"
   ]
  },
  {
   "cell_type": "code",
   "execution_count": null,
   "id": "0a2c1161-67a1-4b27-b682-30226553ed8b",
   "metadata": {},
   "outputs": [],
   "source": [
    "for result in mycursor:\n",
    "    print(result)"
   ]
  },
  {
   "cell_type": "code",
   "execution_count": 49,
   "id": "cde3bed3-8dd9-4d1c-a9ea-134d3cb47477",
   "metadata": {},
   "outputs": [],
   "source": [
    "mycursor.execute(\"DROP TABLE TEREN_CLADIRE;\")\n",
    "mycursor.execute(\"DROP TABLE MIJLOC_TRANSPORT;\")\n",
    "mycursor.execute(\"DROP TABLE BUN_CULTURAL;\")\n",
    "mycursor.execute(\"DROP TABLE BUN_INSTRAINAT;\")\n",
    "mycursor.execute(\"DROP TABLE ACTIVA_FINANCIARA_INDIRECTA;\")\n",
    "mycursor.execute(\"DROP TABLE ACTIVA_FINANCIARA_DIRECTA;\")\n",
    "mycursor.execute(\"DROP TABLE ALTA_ACTIVA_FINANCIARA\")\n",
    "mycursor.execute(\"DROP TABLE AJUTOR;\")\n",
    "mycursor.execute(\"DROP TABLE MEMBRU_STAT;\")\n",
    "mycursor.execute(\"DROP TABLE MEMBRU_NON_STAT;\")\n",
    "mycursor.execute(\"DROP TABLE MEMBRU_PARTID;\")\n",
    "mycursor.execute(\"DROP TABLE MEMBRU_SINDICAT;\")\n",
    "mycursor.execute(\"DROP TABLE VENIT;\")\n",
    "mycursor.execute(\"DROP TABLE CONTRACT;\")\n",
    "mycursor.execute(\"DROP TABLE DATORIE;\")\n",
    "mycursor.execute(\"DROP TABLE DOCUMENT;\")\n",
    "mycursor.execute(\"DROP TABLE TITULAR;\")\n",
    "\n",
    "\n",
    "\n",
    "\n"
   ]
  },
  {
   "cell_type": "code",
   "execution_count": 50,
   "id": "ffa5f6dd-8629-47fa-a9d6-a7e683eafef5",
   "metadata": {},
   "outputs": [],
   "source": [
    "mycursor.execute(\"\"\"CREATE TABLE TITULAR(\n",
    "                titular_id INT PRIMARY KEY,\n",
    "                nume VARCHAR(50),\n",
    "                init_tata VARCHAR(8),\n",
    "                prenume VARCHAR(50),\n",
    "                functie VARCHAR(80),\n",
    "                institutie VARCHAR(80)\n",
    "                );\"\"\")\n",
    "\n",
    "mycursor.execute(\"\"\"CREATE TABLE DOCUMENT(\n",
    "                doc_id INT PRIMARY KEY,\n",
    "                titular_id INT,\n",
    "                data DATE,\n",
    "                tip INT,\n",
    "                FOREIGN KEY (titular_id) REFERENCES TITULAR(titular_id)\n",
    "                );\"\"\")\n",
    "\n",
    "mycursor.execute(\"\"\"CREATE TABLE TEREN_CLADIRE(\n",
    "                teren_id INT PRIMARY KEY AUTO_INCREMENT,\n",
    "                doc_id INT,\n",
    "                tip INT,\n",
    "                tara VARCHAR(40),\n",
    "                judet VARCHAR(40),\n",
    "                localitate VARCHAR(40),\n",
    "                categorie VARCHAR(40),\n",
    "                an_dobandire YEAR,\n",
    "                suprafata INT,\n",
    "                cota_parte VARCHAR(40),\n",
    "                mod_dobandire VARCHAR(70),\n",
    "                proprietar VARCHAR (150),\n",
    "                FOREIGN KEY (doc_id) REFERENCES DOCUMENT(doc_id)\n",
    "                );\"\"\")\n",
    "\n",
    "mycursor.execute(\"\"\"CREATE TABLE MIJLOC_TRANSPORT(\n",
    "                mijloc_transport_id INT PRIMARY KEY AUTO_INCREMENT,\n",
    "                doc_id INT,\n",
    "                natura VARCHAR(50),\n",
    "                marca VARCHAR(50),\n",
    "                nr_bucati INT,\n",
    "                an_fabricatie YEAR,\n",
    "                mod_dobandire VARCHAR(70),\n",
    "                FOREIGN KEY (doc_id) REFERENCES DOCUMENT(doc_id)\n",
    "                );\"\"\")\n",
    "\n",
    "mycursor.execute(\"\"\"CREATE TABLE BUN_CULTURAL(\n",
    "                bun_cultural_id INT PRIMARY KEY AUTO_INCREMENT,\n",
    "                doc_id INT,\n",
    "                descriere_sumara VARCHAR(90),\n",
    "                an_dobandire YEAR,\n",
    "                valoare_nr INT,\n",
    "                valoare_valuta VARCHAR(15),\n",
    "                FOREIGN KEY (doc_id) REFERENCES DOCUMENT(doc_id)\n",
    "                );\"\"\")\n",
    "\n",
    "mycursor.execute(\"\"\"CREATE TABLE BUN_INSTRAINAT(\n",
    "                bun_instrainat_id INT PRIMARY KEY AUTO_INCREMENT,\n",
    "                doc_id INT,\n",
    "                natura VARCHAR(50),\n",
    "                data DATE,\n",
    "                persoana_catre VARCHAR(70),\n",
    "                forma VARCHAR(40),\n",
    "                valoare_nr INT,\n",
    "                valoare_valuta VARCHAR(10),\n",
    "                FOREIGN KEY (doc_id) REFERENCES DOCUMENT(doc_id)\n",
    "                );\"\"\")\n",
    "\n",
    "mycursor.execute(\"\"\"CREATE TABLE ACTIVA_FINANCIARA_DIRECTA(\n",
    "                fin_direct_id INT PRIMARY KEY AUTO_INCREMENT,\n",
    "                doc_id INT,\n",
    "                emitent VARCHAR(70),\n",
    "                tip VARCHAR(130),\n",
    "                nr_sau_cota INT,\n",
    "                valoare_nr INT,\n",
    "                valoare_valuta VARCHAR(10),\n",
    "                FOREIGN KEY (doc_id) REFERENCES DOCUMENT(doc_id)\n",
    "                );\"\"\")\n",
    "\n",
    "mycursor.execute(\"\"\"CREATE TABLE ACTIVA_FINANCIARA_INDIRECTA(\n",
    "                fin_indirect_id INT PRIMARY KEY AUTO_INCREMENT,\n",
    "                doc_id INT,\n",
    "                institutie VARCHAR(100),\n",
    "                tip VARCHAR(130),\n",
    "                valuta VARCHAR(10),\n",
    "                an YEAR,\n",
    "                sold INT,\n",
    "                FOREIGN KEY (doc_id) REFERENCES DOCUMENT(doc_id)\n",
    "                );\"\"\")\n",
    "\n",
    "mycursor.execute(\"\"\"CREATE TABLE ALTA_ACTIVA_FINANCIARA(\n",
    "                fin_alte_id INT PRIMARY KEY AUTO_INCREMENT,\n",
    "                doc_id INT,\n",
    "                descriere VARCHAR(80),\n",
    "                valoare INT,\n",
    "                valuta VARCHAR(10),\n",
    "                FOREIGN KEY (doc_id) REFERENCES DOCUMENT(doc_id)\n",
    "                );\"\"\")\n",
    "\n",
    "\n",
    "mycursor.execute(\"\"\"CREATE TABLE DATORIE(\n",
    "                datorie_id INT PRIMARY KEY AUTO_INCREMENT,\n",
    "                doc_id INT,\n",
    "                creditor VARCHAR(70),\n",
    "                an_creata YEAR,\n",
    "                an_scadenta YEAR,\n",
    "                valoare_nr INT,\n",
    "                valoare_valuta VARCHAR(10),\n",
    "                FOREIGN KEY (doc_id) REFERENCES DOCUMENT(doc_id)\n",
    "                );\"\"\")\n",
    "\n",
    "mycursor.execute(\"\"\"CREATE TABLE AJUTOR(\n",
    "                ajutor_id INT PRIMARY KEY AUTO_INCREMENT,\n",
    "                doc_id INT,\n",
    "                realizator_tip INT,\n",
    "                realizator_nume VARCHAR(2570),\n",
    "                sursa VARCHAR(120),\n",
    "                serviciu_obiect VARCHAR(60),\n",
    "                venit_nr INT,\n",
    "                venit_valuta VARCHAR(10),\n",
    "                FOREIGN KEY (doc_id) REFERENCES DOCUMENT(doc_id)\n",
    "                );\"\"\")\n",
    "\n",
    "mycursor.execute(\"\"\"CREATE TABLE VENIT(\n",
    "                venit_id INT PRIMARY KEY AUTO_INCREMENT,\n",
    "                doc_id INT,\n",
    "                venit_tip VARCHAR(100),\n",
    "                realizator_tip INT,\n",
    "                realizator_nume VARCHAR(80),\n",
    "                sursa VARCHAR(100),\n",
    "                serviciu_obiect VARCHAR(70),\n",
    "                venit_nr INT,\n",
    "                venit_valuta VARCHAR(10),\n",
    "                FOREIGN KEY (doc_id) REFERENCES DOCUMENT(doc_id)\n",
    "                );\"\"\")\n",
    "\n",
    "\n",
    "mycursor.execute(\"\"\"CREATE TABLE MEMBRU_NON_STAT(\n",
    "                membru_non_stat_id INT PRIMARY KEY AUTO_INCREMENT,\n",
    "                doc_id INT,\n",
    "                unitate VARCHAR(120),\n",
    "                calitate VARCHAR(40),\n",
    "                nr_parti_sociale INT,\n",
    "                valoare_nr INT,\n",
    "                valoare_valuta VARCHAR(10),\n",
    "                FOREIGN KEY (doc_id) REFERENCES DOCUMENT(doc_id)\n",
    "                );\"\"\")\n",
    "\n",
    "mycursor.execute(\"\"\"CREATE TABLE MEMBRU_STAT(\n",
    "                membru_stat_id INT PRIMARY KEY AUTO_INCREMENT,\n",
    "                doc_id INT,\n",
    "                unitate VARCHAR(120),\n",
    "                calitate VARCHAR(40),\n",
    "                valoare_nr INT,\n",
    "                valoare_valuta VARCHAR(10),\n",
    "                FOREIGN KEY (doc_id) REFERENCES DOCUMENT(doc_id)\n",
    "                );\"\"\")\n",
    "\n",
    "mycursor.execute(\"\"\"CREATE TABLE MEMBRU_SINDICAT(\n",
    "                membru_sindicat_id INT PRIMARY KEY AUTO_INCREMENT,\n",
    "                doc_id INT,\n",
    "                functie VARCHAR(100),\n",
    "                FOREIGN KEY (doc_id) REFERENCES DOCUMENT(doc_id)\n",
    "                );\"\"\")\n",
    "\n",
    "mycursor.execute(\"\"\"CREATE TABLE MEMBRU_PARTID(\n",
    "                membru_partid_id INT PRIMARY KEY AUTO_INCREMENT,\n",
    "                doc_id INT,\n",
    "                functie VARCHAR(100),\n",
    "                FOREIGN KEY (doc_id) REFERENCES DOCUMENT(doc_id)\n",
    "                );\"\"\")\n",
    "\n",
    "mycursor.execute(\"\"\"CREATE TABLE CONTRACT(\n",
    "                contract_id INT PRIMARY KEY AUTO_INCREMENT,\n",
    "                doc_id INT,\n",
    "                tip_beneficiar INT,\n",
    "                nume_beneficiar VARCHAR(60),\n",
    "                institutie_contractanta VARCHAR(100),\n",
    "                procedura VARCHAR(50),\n",
    "                tip_contract VARCHAR(40),\n",
    "                data_incheiere YEAR,\n",
    "                durata VARCHAR(30),\n",
    "                valoare_nr INT,\n",
    "                valoare_valuta VARCHAR(10),\n",
    "                FOREIGN KEY (doc_id) REFERENCES DOCUMENT(doc_id)\n",
    "                );\"\"\")\n"
   ]
  },
  {
   "cell_type": "code",
   "execution_count": 3,
   "id": "fda41ba5-f50e-4153-9f15-7a0f1d6884be",
   "metadata": {},
   "outputs": [],
   "source": [
    "mycursor = db.cursor()"
   ]
  },
  {
   "cell_type": "code",
   "execution_count": 24,
   "id": "9aec766c-09bd-4747-8e20-7a1852cbf87c",
   "metadata": {},
   "outputs": [
    {
     "name": "stdout",
     "output_type": "stream",
     "text": [
      "(3, 'Ciolacu', 'I.', 'Ion-Marcel', 'Președintele Camerei Deputaților', 'Camera\\nDeputatilor')\n",
      "(4, 'Ciolacu', 'I.', 'Ion-Marcel', 'Președintele Camerei Deputaților', 'Camera Deputatilor')\n"
     ]
    }
   ],
   "source": [
    "mycursor.execute(\"\"\"SELECT * from TITULAR;\"\"\")\n",
    "for result in mycursor:\n",
    "    print(result)"
   ]
  },
  {
   "cell_type": "code",
   "execution_count": 25,
   "id": "3424bd6d-7dbd-403f-b4fa-1ab7da0ea8d0",
   "metadata": {},
   "outputs": [
    {
     "name": "stdout",
     "output_type": "stream",
     "text": [
      "(1, 4, datetime.date(2023, 6, 13), 1)\n",
      "(3, 3, datetime.date(2023, 6, 13), 1)\n",
      "(5, 3, datetime.date(2023, 6, 13), 1)\n",
      "(6, 4, datetime.date(2023, 6, 13), 1)\n",
      "(7, 4, datetime.date(2023, 6, 13), 1)\n"
     ]
    }
   ],
   "source": [
    "mycursor.execute(\"\"\"SELECT * from DOCUMENT;\"\"\")\n",
    "for result in mycursor:\n",
    "    print(result)"
   ]
  },
  {
   "cell_type": "code",
   "execution_count": 26,
   "id": "5009210c-295f-4e10-b8d9-f9e83ae2ca1c",
   "metadata": {},
   "outputs": [
    {
     "name": "stdout",
     "output_type": "stream",
     "text": [
      "(9, 5, 0, 'ROMANIA', 'Buzau', 'Buzau', 'Intravilan', 2002, 387, '1/1', 'Contract de vânzare cumpărare', 'CIOLACU ION MARCEL CIOLACU ROXANA MIHAELA')\n",
      "(10, 5, 0, 'ROMANIA', 'Buzau', 'Buzau', 'Intravilan', 1999, 62, '1/1', 'Contract de vânzare cumpărare', 'CIOLACU ION MARCEL CIOLACU ROXANA MIHAELA')\n",
      "(11, 6, 0, 'ROMANIA', 'Buzau', 'Buzau', 'Intravilan', 2002, 387, '1/1', 'Contract de vânzare cumpărare', 'CIOLACU ION MARCEL CIOLACU ROXANA MIHAELA')\n",
      "(12, 6, 0, 'ROMANIA', 'Buzau', 'Buzau', 'Intravilan', 1999, 62, '1/1', 'Contract de vânzare cumpărare', 'CIOLACU ION MARCEL CIOLACU ROXANA MIHAELA')\n",
      "(13, 7, 0, 'ROMANIA', 'Buzau', 'Buzau', 'Intravilan', 2002, 387, '1/1', 'Contract de vânzare cumpărare', 'CIOLACU ION MARCEL CIOLACU ROXANA MIHAELA')\n",
      "(14, 7, 0, 'ROMANIA', 'Buzau', 'Buzau', 'Intravilan', 1999, 62, '1/1', 'Contract de vânzare cumpărare', 'CIOLACU ION MARCEL CIOLACU ROXANA MIHAELA')\n",
      "(15, 7, 1, 'ROMANIA', 'Buzau', 'Buzau', 'Casă de locuit', 2005, 282, '1/1', 'Construcție', 'CIOLACU ION MARCEL CIOLACU ROXANA MIHAELA')\n",
      "(16, 7, 1, 'ROMANIA', 'Buzau', 'Buzau', 'Casă de locuit', 1999, 43, '1/1', 'Contract de vânzare cumpărare', 'CIOLACU ION MARCEL CIOLACU ROXANA MIHAELA')\n",
      "(17, 1, 0, 'ROMANIA', 'Buzau', 'Buzau', 'Intravilan', 2002, 387, '1/1', 'Contract de vânzare cumpărare', 'CIOLACU ION MARCEL CIOLACU ROXANA MIHAELA')\n",
      "(18, 1, 0, 'ROMANIA', 'Buzau', 'Buzau', 'Intravilan', 1999, 62, '1/1', 'Contract de vânzare cumpărare', 'CIOLACU ION MARCEL CIOLACU ROXANA MIHAELA')\n",
      "(19, 1, 1, 'ROMANIA', 'Buzau', 'Buzau', 'Casă de locuit', 2005, 282, '1/1', 'Construcție', 'CIOLACU ION MARCEL CIOLACU ROXANA MIHAELA')\n",
      "(20, 1, 1, 'ROMANIA', 'Buzau', 'Buzau', 'Casă de locuit', 1999, 43, '1/1', 'Contract de vânzare cumpărare', 'CIOLACU ION MARCEL CIOLACU ROXANA MIHAELA')\n"
     ]
    }
   ],
   "source": [
    "mycursor.execute(\"\"\"SELECT * from TEREN_CLADIRE;\"\"\")\n",
    "for result in mycursor:\n",
    "    print(result)\n"
   ]
  },
  {
   "cell_type": "code",
   "execution_count": 27,
   "id": "f2b52add-a205-4ea3-92e4-1dfb57bd2eee",
   "metadata": {},
   "outputs": [],
   "source": [
    "mycursor.execute(\"\"\"SELECT * from MIJLOC_TRANSPORT;\"\"\")\n",
    "for result in mycursor:\n",
    "    print(result)"
   ]
  },
  {
   "cell_type": "code",
   "execution_count": 28,
   "id": "7cb293af-5515-4845-af48-721532597c09",
   "metadata": {},
   "outputs": [],
   "source": [
    "mycursor.execute(\"\"\"SELECT * from BUN_CULTURAL;\"\"\")\n",
    "for result in mycursor:\n",
    "    print(result)"
   ]
  },
  {
   "cell_type": "code",
   "execution_count": 29,
   "id": "b05264fe-8130-4062-a1a3-aa8a0b3c80e5",
   "metadata": {},
   "outputs": [],
   "source": [
    "mycursor.execute(\"\"\"SELECT * from BUN_INSTRAINAT;\"\"\")\n",
    "for result in mycursor:\n",
    "    print(result)"
   ]
  },
  {
   "cell_type": "code",
   "execution_count": 30,
   "id": "5ebaca38-6605-4944-aeaf-dcb497731f3b",
   "metadata": {},
   "outputs": [
    {
     "name": "stdout",
     "output_type": "stream",
     "text": [
      "(1, 1, 'BANCA TRANSILVANIA, ***************', 'Cont curent sau echivalente (inclusiv card)', 'RON', 2003, 38162)\n",
      "(2, 1, 'BANCA TRANSILVANIA, ***************', 'Cont curent sau echivalente (inclusiv card)', 'RON', 2017, 2058)\n",
      "(3, 1, 'BANCA TRANSILVANIA, ***************', 'Cont curent sau echivalente (inclusiv card)', 'EUR', 2019, 3093)\n",
      "(4, 1, 'BANCA TRANSILVANIA, ***************', 'Depozit bancar sau echivalente', 'EUR', 2022, 10000)\n",
      "(5, 1, 'BANCA TRANSILVANIA, ***************', 'Depozit bancar sau echivalente', 'EUR', 2023, 10029)\n",
      "(6, 1, 'BANCA TRANSILVANIA, ***************', 'Depozit bancar sau echivalente', 'EUR', 2023, 10029)\n",
      "(7, 1, 'BANCA TRANSILVANIA, ***************', 'Cont curent sau echivalente (inclusiv card)', 'RON', 2015, 11935)\n",
      "(8, 1, 'BANCA TRANSILVANIA, ***************', 'Cont curent sau echivalente (inclusiv card)', 'EUR', 2019, 5728)\n",
      "(9, 1, 'BANCA TRANSILVANIA, ***************', 'Cont curent sau echivalente (inclusiv card)', 'RON', 2017, 30)\n",
      "(10, 1, 'REVOLUT BANK UAB, ********', 'Cont curent sau echivalente (inclusiv card)', 'RON', 2021, 218)\n"
     ]
    }
   ],
   "source": [
    "mycursor.execute(\"\"\"SELECT * from ACTIVA_FINANCIARA_INDIRECTA;\"\"\")\n",
    "for result in mycursor:\n",
    "    print(result)"
   ]
  },
  {
   "cell_type": "code",
   "execution_count": 31,
   "id": "73871756-f136-4ad1-ba4c-643635a5a14f",
   "metadata": {},
   "outputs": [
    {
     "name": "stdout",
     "output_type": "stream",
     "text": [
      "(1, 1, 'CIOLACU MIHAI CRISTIAN', 'Împrumuturi acordate în nume personal', 490000, 490000, 'RON')\n",
      "(2, 1, 'ALCOM SRL', 'Acţiuni sau părţi sociale în societăţi comerciale', 301, 3010, 'RON')\n"
     ]
    }
   ],
   "source": [
    "mycursor.execute(\"\"\"SELECT * from ACTIVA_FINANCIARA_DIRECTA;\"\"\")\n",
    "for result in mycursor:\n",
    "    print(result)"
   ]
  },
  {
   "cell_type": "code",
   "execution_count": 32,
   "id": "c32a1c67-6aad-4bcb-bd60-532a08ca6a9b",
   "metadata": {},
   "outputs": [],
   "source": [
    "mycursor.execute(\"\"\"SELECT * from ALTA_ACTIVA_FINANCIARA;\"\"\")\n",
    "for result in mycursor:\n",
    "    print(result)"
   ]
  },
  {
   "cell_type": "code",
   "execution_count": 33,
   "id": "606e8666-ad17-4f31-9bd0-1ccef498d264",
   "metadata": {},
   "outputs": [
    {
     "name": "stdout",
     "output_type": "stream",
     "text": [
      "(1, 1, 'BANCA TRANSILVANIA', 2010, 2037, 85000, 'EUR')\n",
      "(2, 1, 'BANCA TRANSILVANIA', 2012, 2023, 3000, 'RON')\n",
      "(3, 1, 'BANCA TRANSILVANIA', 2017, 2026, 22000, 'RON')\n",
      "(4, 1, 'BANCA TRANSILVANIA', 2017, 2023, 10000, 'RON')\n"
     ]
    }
   ],
   "source": [
    "mycursor.execute(\"\"\"SELECT * from DATORIE;\"\"\")\n",
    "for result in mycursor:\n",
    "    print(result)"
   ]
  },
  {
   "cell_type": "code",
   "execution_count": 34,
   "id": "7224e13a-d6ff-472b-8a2d-d16036d29e8f",
   "metadata": {},
   "outputs": [],
   "source": [
    "mycursor.execute(\"\"\"SELECT * from AJUTOR;\"\"\")\n",
    "for result in mycursor:\n",
    "    print(result)"
   ]
  },
  {
   "cell_type": "code",
   "execution_count": 35,
   "id": "ea325928-a290-4cae-aae9-4d8cd57a571b",
   "metadata": {},
   "outputs": [
    {
     "name": "stdout",
     "output_type": "stream",
     "text": [
      "(1, 1, '1. Venituri din salarii', 0, 'CIOLACU ION MARCEL', 'Camera Deputatilor, STR. IZVOR, NR. 2, BUCURESTI', 'INDEMNIZATIE DEPUTAT', 167916, 'RON')\n",
      "(2, 1, '1. Venituri din salarii', 1, 'CIOLACU ROXANA MIHAELA', 'LUCIA COM 94 SRL, BUZAU', 'SALARIU', 52740, 'RON')\n"
     ]
    }
   ],
   "source": [
    "mycursor.execute(\"\"\"SELECT * from VENIT;\"\"\")\n",
    "for result in mycursor:\n",
    "    print(result)"
   ]
  },
  {
   "cell_type": "code",
   "execution_count": 42,
   "id": "a93886bc-61c2-476e-b030-c5db7133a870",
   "metadata": {},
   "outputs": [
    {
     "name": "stdout",
     "output_type": "stream",
     "text": [
      "(1, 10, '1.1 ASOCIATIA LUMINA 1879 - Buzau ****************************', 'Membru fondator', 0, 'RON')\n"
     ]
    }
   ],
   "source": [
    "mycursor.execute(\"\"\"SELECT * from MEMBRU_STAT;\"\"\")\n",
    "for result in mycursor:\n",
    "    print(result)"
   ]
  },
  {
   "cell_type": "code",
   "execution_count": 43,
   "id": "66711b79-6723-4df9-9efa-6eef88e2271f",
   "metadata": {},
   "outputs": [
    {
     "name": "stdout",
     "output_type": "stream",
     "text": [
      "(2, 10, '1.1 ALCOM SRL - Buzau ****************************** *', 'Asociat', 3010, 3010, 'RON')\n"
     ]
    }
   ],
   "source": [
    "mycursor.execute(\"\"\"SELECT * from MEMBRU_NON_STAT;\"\"\")\n",
    "for result in mycursor:\n",
    "    print(result)"
   ]
  },
  {
   "cell_type": "code",
   "execution_count": 44,
   "id": "0797addf-31d0-4bea-9727-27362263c196",
   "metadata": {},
   "outputs": [
    {
     "name": "stdout",
     "output_type": "stream",
     "text": [
      "(1, 10, '4.1 Partidul Social Democrat - Presedinte')\n",
      "(2, 10, '4.2 Partidul Social Democrat - Membru al Consiliului Politic National')\n",
      "(3, 10, '4.3 Partidul Social Democrat - Membru al Biroului Permanent National')\n"
     ]
    }
   ],
   "source": [
    "mycursor.execute(\"\"\"SELECT * from MEMBRU_PARTID;\"\"\")\n",
    "for result in mycursor:\n",
    "    print(result)"
   ]
  },
  {
   "cell_type": "code",
   "execution_count": 45,
   "id": "5b12f84b-fbe4-4be6-aafb-5296347fdff9",
   "metadata": {},
   "outputs": [],
   "source": [
    "mycursor.execute(\"\"\"SELECT * from MEMBRU_SINDICAT;\"\"\")\n",
    "for result in mycursor:\n",
    "    print(result)"
   ]
  },
  {
   "cell_type": "code",
   "execution_count": 46,
   "id": "5da2c880-5a9a-4714-b967-ea340fa95950",
   "metadata": {},
   "outputs": [],
   "source": [
    "mycursor.execute(\"\"\"SELECT * from CONTRACT;\"\"\")\n",
    "for result in mycursor:\n",
    "    print(result)"
   ]
  },
  {
   "cell_type": "code",
   "execution_count": null,
   "id": "25472f1f-8e73-4c97-8658-570be1974e8e",
   "metadata": {},
   "outputs": [],
   "source": []
  }
 ],
 "metadata": {
  "kernelspec": {
   "display_name": "Python 3 (ipykernel)",
   "language": "python",
   "name": "python3"
  },
  "language_info": {
   "codemirror_mode": {
    "name": "ipython",
    "version": 3
   },
   "file_extension": ".py",
   "mimetype": "text/x-python",
   "name": "python",
   "nbconvert_exporter": "python",
   "pygments_lexer": "ipython3",
   "version": "3.12.3"
  }
 },
 "nbformat": 4,
 "nbformat_minor": 5
}

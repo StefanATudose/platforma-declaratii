{
 "cells": [
  {
   "cell_type": "code",
   "execution_count": 23,
   "id": "8ff43ce5-8bc7-4515-9c19-de9e706fe8da",
   "metadata": {},
   "outputs": [],
   "source": [
    "import mysql.connector\n",
    "import keyring\n"
   ]
  },
  {
   "cell_type": "code",
   "execution_count": 24,
   "id": "e7345cc2-6ce6-41cd-9cd8-77c28ce3c93f",
   "metadata": {},
   "outputs": [],
   "source": [
    "db = mysql.connector.connect(\n",
    "    host=\"localhost\",\n",
    "    user=\"stefan\",\n",
    "    passwd=\"Gigelfrone112!!\",\n",
    "    auth_plugin = 'mysql_native_password',\n",
    "    database = \"declaratiiavere\",\n",
    ")\n",
    "\n",
    "mycursor = db.cursor()"
   ]
  },
  {
   "cell_type": "code",
   "execution_count": 31,
   "id": "d11d46e7-4c5e-428c-b019-ceccd43c1e15",
   "metadata": {},
   "outputs": [],
   "source": [
    "mycursor.execute(\"SHOW tables;\")"
   ]
  },
  {
   "cell_type": "code",
   "execution_count": 32,
   "id": "0a2c1161-67a1-4b27-b682-30226553ed8b",
   "metadata": {},
   "outputs": [
    {
     "name": "stdout",
     "output_type": "stream",
     "text": [
      "('activa_financiara_directa',)\n",
      "('activa_financiara_indirecta',)\n",
      "('ajutor',)\n",
      "('alta_activa_financiara',)\n",
      "('bun_cultural',)\n",
      "('bun_instrainat',)\n",
      "('contract',)\n",
      "('datorie',)\n",
      "('declaratiiavere.teren_cladire',)\n",
      "('document',)\n",
      "('membru_non_stat',)\n",
      "('membru_partid',)\n",
      "('membru_sindicat',)\n",
      "('membru_stat',)\n",
      "('mijloc_transport',)\n",
      "('teren_cladire',)\n",
      "('titular',)\n",
      "('venit',)\n"
     ]
    }
   ],
   "source": [
    "for result in mycursor:\n",
    "    print(result)"
   ]
  },
  {
   "cell_type": "code",
   "execution_count": 15,
   "id": "cde3bed3-8dd9-4d1c-a9ea-134d3cb47477",
   "metadata": {},
   "outputs": [],
   "source": [
    "mycursor.execute(\"DROP TABLE TEREN_CLADIRE;\")\n",
    "mycursor.execute(\"DROP TABLE MIJLOC_TRANSPORT;\")\n",
    "mycursor.execute(\"DROP TABLE BUN_CULTURAL;\")\n",
    "mycursor.execute(\"DROP TABLE BUN_INSTRAINAT;\")\n",
    "mycursor.execute(\"DROP TABLE ACTIVA_FINANCIARA_INDIRECTA;\")\n",
    "mycursor.execute(\"DROP TABLE ACTIVA_FINANCIARA_DIRECTA;\")\n",
    "mycursor.execute(\"DROP TABLE ALTA_ACTIVA_FINANCIARA\")\n",
    "mycursor.execute(\"DROP TABLE AJUTOR;\")\n",
    "mycursor.execute(\"DROP TABLE MEMBRU_STAT;\")\n",
    "mycursor.execute(\"DROP TABLE MEMBRU_NON_STAT;\")\n",
    "mycursor.execute(\"DROP TABLE MEMBRU_PARTID;\")\n",
    "mycursor.execute(\"DROP TABLE MEMBRU_SINDICAT;\")\n",
    "mycursor.execute(\"DROP TABLE VENIT;\")\n",
    "mycursor.execute(\"DROP TABLE CONTRACT;\")\n",
    "mycursor.execute(\"DROP TABLE DATORIE;\")\n",
    "mycursor.execute(\"DROP TABLE DOCUMENT;\")\n",
    "mycursor.execute(\"DROP TABLE TITULAR;\")\n",
    "\n",
    "\n",
    "\n",
    "\n"
   ]
  },
  {
   "cell_type": "code",
   "execution_count": 28,
   "id": "ffa5f6dd-8629-47fa-a9d6-a7e683eafef5",
   "metadata": {},
   "outputs": [],
   "source": [
    "mycursor.execute(\"\"\"CREATE TABLE TITULAR(\n",
    "                titular_id INT PRIMARY KEY,\n",
    "                nume VARCHAR(50),\n",
    "                init_tata VARCHAR(8),\n",
    "                prenume VARCHAR(50),\n",
    "                functie VARCHAR(80),\n",
    "                institutie VARCHAR(80)\n",
    "                );\"\"\")\n",
    "\n",
    "mycursor.execute(\"\"\"CREATE TABLE DOCUMENT(\n",
    "                doc_id INT PRIMARY KEY,\n",
    "                titular_id INT,\n",
    "                data DATE,\n",
    "                tip INT,\n",
    "                avere_doc INT,\n",
    "                FOREIGN KEY (titular_id) REFERENCES TITULAR(titular_id)\n",
    "                );\"\"\")\n",
    "\n",
    "mycursor.execute(\"\"\"CREATE TABLE TEREN_CLADIRE(\n",
    "                teren_id INT PRIMARY KEY AUTO_INCREMENT,\n",
    "                doc_id INT,\n",
    "                tip INT,\n",
    "                tara VARCHAR(40),\n",
    "                judet VARCHAR(40),\n",
    "                localitate VARCHAR(40),\n",
    "                categorie VARCHAR(40),\n",
    "                an_dobandire YEAR,\n",
    "                suprafata INT,\n",
    "                cota_parte VARCHAR(40),\n",
    "                mod_dobandire VARCHAR(70),\n",
    "                proprietar VARCHAR (150),\n",
    "                val_estimata INT,\n",
    "                FOREIGN KEY (doc_id) REFERENCES DOCUMENT(doc_id)\n",
    "                );\"\"\")\n",
    "\n",
    "mycursor.execute(\"\"\"CREATE TABLE MIJLOC_TRANSPORT(\n",
    "                mijloc_transport_id INT PRIMARY KEY AUTO_INCREMENT,\n",
    "                doc_id INT,\n",
    "                natura VARCHAR(50),\n",
    "                marca VARCHAR(50),\n",
    "                nr_bucati INT,\n",
    "                an_fabricatie YEAR,\n",
    "                mod_dobandire VARCHAR(70),\n",
    "                val_estimata INT,\n",
    "                FOREIGN KEY (doc_id) REFERENCES DOCUMENT(doc_id)\n",
    "                );\"\"\")\n",
    "\n",
    "mycursor.execute(\"\"\"CREATE TABLE BUN_CULTURAL(\n",
    "                bun_cultural_id INT PRIMARY KEY AUTO_INCREMENT,\n",
    "                doc_id INT,\n",
    "                descriere_sumara VARCHAR(90),\n",
    "                an_dobandire YEAR,\n",
    "                valoare_nr INT,\n",
    "                valoare_valuta VARCHAR(15),\n",
    "                FOREIGN KEY (doc_id) REFERENCES DOCUMENT(doc_id)\n",
    "                );\"\"\")\n",
    "\n",
    "mycursor.execute(\"\"\"CREATE TABLE BUN_INSTRAINAT(\n",
    "                bun_instrainat_id INT PRIMARY KEY AUTO_INCREMENT,\n",
    "                doc_id INT,\n",
    "                natura VARCHAR(50),\n",
    "                data DATE,\n",
    "                persoana_catre VARCHAR(70),\n",
    "                forma VARCHAR(40),\n",
    "                valoare_nr INT,\n",
    "                valoare_valuta VARCHAR(10),\n",
    "                FOREIGN KEY (doc_id) REFERENCES DOCUMENT(doc_id)\n",
    "                );\"\"\")\n",
    "\n",
    "mycursor.execute(\"\"\"CREATE TABLE ACTIVA_FINANCIARA_DIRECTA(\n",
    "                fin_direct_id INT PRIMARY KEY AUTO_INCREMENT,\n",
    "                doc_id INT,\n",
    "                emitent VARCHAR(70),\n",
    "                tip VARCHAR(130),\n",
    "                nr_sau_cota INT,\n",
    "                valoare_nr INT,\n",
    "                valoare_valuta VARCHAR(10),\n",
    "                FOREIGN KEY (doc_id) REFERENCES DOCUMENT(doc_id)\n",
    "                );\"\"\")\n",
    "\n",
    "mycursor.execute(\"\"\"CREATE TABLE ACTIVA_FINANCIARA_INDIRECTA(\n",
    "                fin_indirect_id INT PRIMARY KEY AUTO_INCREMENT,\n",
    "                doc_id INT,\n",
    "                institutie VARCHAR(100),\n",
    "                tip VARCHAR(130),\n",
    "                valuta VARCHAR(10),\n",
    "                an YEAR,\n",
    "                sold INT,\n",
    "                FOREIGN KEY (doc_id) REFERENCES DOCUMENT(doc_id)\n",
    "                );\"\"\")\n",
    "\n",
    "mycursor.execute(\"\"\"CREATE TABLE ALTA_ACTIVA_FINANCIARA(\n",
    "                fin_alte_id INT PRIMARY KEY AUTO_INCREMENT,\n",
    "                doc_id INT,\n",
    "                descriere VARCHAR(80),\n",
    "                valoare INT,\n",
    "                valuta VARCHAR(10),\n",
    "                FOREIGN KEY (doc_id) REFERENCES DOCUMENT(doc_id)\n",
    "                );\"\"\")\n",
    "\n",
    "\n",
    "mycursor.execute(\"\"\"CREATE TABLE DATORIE(\n",
    "                datorie_id INT PRIMARY KEY AUTO_INCREMENT,\n",
    "                doc_id INT,\n",
    "                creditor VARCHAR(70),\n",
    "                an_creata YEAR,\n",
    "                an_scadenta YEAR,\n",
    "                valoare_nr INT,\n",
    "                valoare_valuta VARCHAR(10),\n",
    "                FOREIGN KEY (doc_id) REFERENCES DOCUMENT(doc_id)\n",
    "                );\"\"\")\n",
    "\n",
    "mycursor.execute(\"\"\"CREATE TABLE AJUTOR(\n",
    "                ajutor_id INT PRIMARY KEY AUTO_INCREMENT,\n",
    "                doc_id INT,\n",
    "                realizator_tip INT,\n",
    "                realizator_nume VARCHAR(2570),\n",
    "                sursa VARCHAR(120),\n",
    "                serviciu_obiect VARCHAR(60),\n",
    "                venit_nr INT,\n",
    "                venit_valuta VARCHAR(10),\n",
    "                FOREIGN KEY (doc_id) REFERENCES DOCUMENT(doc_id)\n",
    "                );\"\"\")\n",
    "\n",
    "mycursor.execute(\"\"\"CREATE TABLE VENIT(\n",
    "                venit_id INT PRIMARY KEY AUTO_INCREMENT,\n",
    "                doc_id INT,\n",
    "                venit_tip VARCHAR(100),\n",
    "                realizator_tip INT,\n",
    "                realizator_nume VARCHAR(80),\n",
    "                sursa VARCHAR(100),\n",
    "                serviciu_obiect VARCHAR(130),\n",
    "                venit_nr INT,\n",
    "                venit_valuta VARCHAR(10),\n",
    "                FOREIGN KEY (doc_id) REFERENCES DOCUMENT(doc_id)\n",
    "                );\"\"\")\n",
    "\n",
    "\n",
    "mycursor.execute(\"\"\"CREATE TABLE MEMBRU_NON_STAT(\n",
    "                membru_non_stat_id INT PRIMARY KEY AUTO_INCREMENT,\n",
    "                doc_id INT,\n",
    "                unitate VARCHAR(120),\n",
    "                calitate VARCHAR(40),\n",
    "                nr_parti_sociale INT,\n",
    "                valoare_nr INT,\n",
    "                valoare_valuta VARCHAR(10),\n",
    "                FOREIGN KEY (doc_id) REFERENCES DOCUMENT(doc_id)\n",
    "                );\"\"\")\n",
    "\n",
    "mycursor.execute(\"\"\"CREATE TABLE MEMBRU_STAT(\n",
    "                membru_stat_id INT PRIMARY KEY AUTO_INCREMENT,\n",
    "                doc_id INT,\n",
    "                unitate VARCHAR(120),\n",
    "                calitate VARCHAR(40),\n",
    "                valoare_nr INT,\n",
    "                valoare_valuta VARCHAR(10),\n",
    "                FOREIGN KEY (doc_id) REFERENCES DOCUMENT(doc_id)\n",
    "                );\"\"\")\n",
    "\n",
    "mycursor.execute(\"\"\"CREATE TABLE MEMBRU_SINDICAT(\n",
    "                membru_sindicat_id INT PRIMARY KEY AUTO_INCREMENT,\n",
    "                doc_id INT,\n",
    "                functie VARCHAR(100),\n",
    "                FOREIGN KEY (doc_id) REFERENCES DOCUMENT(doc_id)\n",
    "                );\"\"\")\n",
    "\n",
    "mycursor.execute(\"\"\"CREATE TABLE MEMBRU_PARTID(\n",
    "                membru_partid_id INT PRIMARY KEY AUTO_INCREMENT,\n",
    "                doc_id INT,\n",
    "                functie VARCHAR(100),\n",
    "                FOREIGN KEY (doc_id) REFERENCES DOCUMENT(doc_id)\n",
    "                );\"\"\")\n",
    "\n",
    "mycursor.execute(\"\"\"CREATE TABLE CONTRACT(\n",
    "                contract_id INT PRIMARY KEY AUTO_INCREMENT,\n",
    "                doc_id INT,\n",
    "                tip_beneficiar INT,\n",
    "                nume_beneficiar VARCHAR(60),\n",
    "                institutie_contractanta VARCHAR(100),\n",
    "                procedura VARCHAR(50),\n",
    "                tip_contract VARCHAR(40),\n",
    "                data_incheiere YEAR,\n",
    "                durata VARCHAR(30),\n",
    "                valoare_nr INT,\n",
    "                valoare_valuta VARCHAR(10),\n",
    "                FOREIGN KEY (doc_id) REFERENCES DOCUMENT(doc_id)\n",
    "                );\"\"\")\n"
   ]
  },
  {
   "cell_type": "code",
   "execution_count": 29,
   "id": "fda41ba5-f50e-4153-9f15-7a0f1d6884be",
   "metadata": {},
   "outputs": [],
   "source": [
    "mycursor = db.cursor()"
   ]
  },
  {
   "cell_type": "code",
   "execution_count": 30,
   "id": "9aec766c-09bd-4747-8e20-7a1852cbf87c",
   "metadata": {},
   "outputs": [],
   "source": [
    "mycursor.execute(\"\"\"SELECT * from TITULAR;\"\"\")\n",
    "for result in mycursor:\n",
    "    print(result)"
   ]
  },
  {
   "cell_type": "code",
   "execution_count": 5,
   "id": "3424bd6d-7dbd-403f-b4fa-1ab7da0ea8d0",
   "metadata": {},
   "outputs": [
    {
     "name": "stdout",
     "output_type": "stream",
     "text": [
      "(1, 1, datetime.date(2023, 6, 13), 1)\n",
      "(2, 2, datetime.date(2022, 5, 26), 1)\n",
      "(3, 3, datetime.date(2022, 6, 9), 1)\n",
      "(4, 3, datetime.date(2023, 5, 31), 1)\n"
     ]
    }
   ],
   "source": [
    "mycursor.execute(\"\"\"SELECT * from DOCUMENT;\"\"\")\n",
    "for result in mycursor:\n",
    "    print(result)"
   ]
  },
  {
   "cell_type": "code",
   "execution_count": 6,
   "id": "5009210c-295f-4e10-b8d9-f9e83ae2ca1c",
   "metadata": {},
   "outputs": [
    {
     "name": "stdout",
     "output_type": "stream",
     "text": [
      "(1, 1, 0, 'ROMANIA', 'Buzau', 'Buzau', 'Intravilan', 2002, 387, '1/1', 'Contract de vânzare cumpărare', 'CIOLACU ION MARCEL CIOLACU ROXANA MIHAELA')\n",
      "(2, 1, 0, 'ROMANIA', 'Buzau', 'Buzau', 'Intravilan', 1999, 62, '1/1', 'Contract de vânzare cumpărare', 'CIOLACU ION MARCEL CIOLACU ROXANA MIHAELA')\n",
      "(3, 1, 1, 'ROMANIA', 'Buzau', 'Buzau', 'Casă de locuit', 2005, 282, '1/1', 'Construcție', 'CIOLACU ION MARCEL CIOLACU ROXANA MIHAELA')\n",
      "(4, 1, 1, 'ROMANIA', 'Buzau', 'Buzau', 'Casă de locuit', 1999, 43, '1/1', 'Contract de vânzare cumpărare', 'CIOLACU ION MARCEL CIOLACU ROXANA MIHAELA')\n",
      "(5, 2, 0, 'ROMANIA', 'Buzau', 'Buzau', 'Intravilan', 2002, 387, '1/1', 'Contract de vânzare cumpărare', 'CIOLACU ROXANA MIHAELA CIOLACU ION MARCEL')\n",
      "(6, 2, 0, 'ROMANIA', 'Buzau', 'Buzau', 'Intravilan', 1999, 62, '1/1', 'Contract de vânzare cumpărare', 'CIOLACU ROXANA MIHAELA CIOLACU ION MARCEL')\n",
      "(7, 2, 1, 'ROMANIA', 'Buzau', 'Buzau', 'Casă de locuit', 2005, 282, '1/1', 'Construcție', 'CIOLACU ROXANA MIHAELA CIOLACU ION MARCEL')\n",
      "(8, 2, 1, 'ROMANIA', 'Buzau', 'Buzau', 'Casă de locuit', 1999, 43, '1/1', 'Contract de vânzare cumpărare', 'CIOLACU ROXANA MIHAELA CIOLACU ION MARCEL')\n",
      "(9, 3, 1, 'ROMANIA', 'Sibiu', 'Sibiu', 'Apartament', 1997, 85, '1/1', 'Contract de vânzare cumpărare', 'IOHANNIS KLAUS IOHANNIS CARMEN')\n",
      "(10, 3, 1, 'ROMANIA', 'Sibiu', 'Sibiu', 'Apartament', 2001, 253, '1/1', 'Contract de vânzare cumpărare', 'IOHANNIS KLAUS IOHANNIS CARMEN')\n",
      "(11, 3, 1, 'ROMANIA', 'Sibiu', 'Sibiu', 'Casă de locuit', 1992, 377, '1/1', 'Contract de donaţie Contract de vânzare cumpărare', 'IOHANNIS KLAUS IOHANNIS CARMEN')\n",
      "(12, 3, 1, 'ROMANIA', 'Sibiu', 'Sibiu', 'Casă de locuit', 2007, 76, '1/1', 'Contract de vânzare cumpărare', 'IOHANNIS KLAUS IOHANNIS CARMEN')\n",
      "(13, 3, 1, 'ROMANIA', 'Sibiu', 'Sibiu', 'Casă de locuit', 2007, 64, '1/1', 'Contract de vânzare cumpărare', 'IOHANNIS KLAUS IOHANNIS CARMEN')\n",
      "(14, 3, 1, 'ROMANIA', 'Sibiu', 'Sibiu', 'Apartament', 2020, 67, '1/1', 'Moştenire', 'IOHANNIS CARMEN')\n",
      "(15, 4, 1, 'ROMANIA', 'Sibiu', 'Sibiu', 'Apartament', 1997, 85, '1/1', 'Contract de vânzare cumpărare', 'IOHANNIS CARMEN IOHANNIS KLAUS')\n",
      "(16, 4, 1, 'ROMANIA', 'Sibiu', 'Sibiu', 'Apartament', 2001, 253, '1/1', 'Contract de vânzare cumpărare', 'IOHANNIS CARMEN IOHANNIS KLAUS')\n",
      "(17, 4, 1, 'ROMANIA', 'Sibiu', 'Sibiu', 'Casă de locuit', 1992, 377, '1/1', 'Contract de donaţie Contract de vânzare cumpărare', 'IOHANNIS CARMEN IOHANNIS KLAUS')\n",
      "(18, 4, 1, 'ROMANIA', 'Sibiu', 'Sibiu', 'Casă de locuit', 2007, 76, '1/1', 'Contract de vânzare cumpărare', 'IOHANNIS CARMEN IOHANNIS KLAUS')\n",
      "(19, 4, 1, 'ROMANIA', 'Sibiu', 'Sibiu', 'Casă de locuit', 2007, 64, '1/1', 'Contract de vânzare cumpărare', 'IOHANNIS CARMEN IOHANNIS KLAUS')\n",
      "(20, 4, 1, 'ROMANIA', 'Sibiu', 'Sibiu', 'Apartament', 2020, 67, '1/1', 'Moştenire', 'IOHANNIS CARMEN')\n"
     ]
    }
   ],
   "source": [
    "mycursor.execute(\"\"\"SELECT * from TEREN_CLADIRE;\"\"\")\n",
    "for result in mycursor:\n",
    "    print(result)\n"
   ]
  },
  {
   "cell_type": "code",
   "execution_count": null,
   "id": "f2b52add-a205-4ea3-92e4-1dfb57bd2eee",
   "metadata": {},
   "outputs": [],
   "source": [
    "mycursor.execute(\"\"\"SELECT * from MIJLOC_TRANSPORT;\"\"\")\n",
    "for result in mycursor:\n",
    "    print(result)"
   ]
  },
  {
   "cell_type": "code",
   "execution_count": null,
   "id": "7cb293af-5515-4845-af48-721532597c09",
   "metadata": {},
   "outputs": [],
   "source": [
    "mycursor.execute(\"\"\"SELECT * from BUN_CULTURAL;\"\"\")\n",
    "for result in mycursor:\n",
    "    print(result)"
   ]
  },
  {
   "cell_type": "code",
   "execution_count": null,
   "id": "b05264fe-8130-4062-a1a3-aa8a0b3c80e5",
   "metadata": {},
   "outputs": [],
   "source": [
    "mycursor.execute(\"\"\"SELECT * from BUN_INSTRAINAT;\"\"\")\n",
    "for result in mycursor:\n",
    "    print(result)"
   ]
  },
  {
   "cell_type": "code",
   "execution_count": null,
   "id": "5ebaca38-6605-4944-aeaf-dcb497731f3b",
   "metadata": {},
   "outputs": [],
   "source": [
    "mycursor.execute(\"\"\"SELECT * from ACTIVA_FINANCIARA_INDIRECTA;\"\"\")\n",
    "for result in mycursor:\n",
    "    print(result)"
   ]
  },
  {
   "cell_type": "code",
   "execution_count": null,
   "id": "73871756-f136-4ad1-ba4c-643635a5a14f",
   "metadata": {},
   "outputs": [],
   "source": [
    "mycursor.execute(\"\"\"SELECT * from ACTIVA_FINANCIARA_DIRECTA;\"\"\")\n",
    "for result in mycursor:\n",
    "    print(result)"
   ]
  },
  {
   "cell_type": "code",
   "execution_count": null,
   "id": "c32a1c67-6aad-4bcb-bd60-532a08ca6a9b",
   "metadata": {},
   "outputs": [],
   "source": [
    "mycursor.execute(\"\"\"SELECT * from ALTA_ACTIVA_FINANCIARA;\"\"\")\n",
    "for result in mycursor:\n",
    "    print(result)"
   ]
  },
  {
   "cell_type": "code",
   "execution_count": null,
   "id": "606e8666-ad17-4f31-9bd0-1ccef498d264",
   "metadata": {},
   "outputs": [],
   "source": [
    "mycursor.execute(\"\"\"SELECT * from DATORIE;\"\"\")\n",
    "for result in mycursor:\n",
    "    print(result)"
   ]
  },
  {
   "cell_type": "code",
   "execution_count": null,
   "id": "7224e13a-d6ff-472b-8a2d-d16036d29e8f",
   "metadata": {},
   "outputs": [],
   "source": [
    "mycursor.execute(\"\"\"SELECT * from AJUTOR;\"\"\")\n",
    "for result in mycursor:\n",
    "    print(result)"
   ]
  },
  {
   "cell_type": "code",
   "execution_count": null,
   "id": "ea325928-a290-4cae-aae9-4d8cd57a571b",
   "metadata": {},
   "outputs": [],
   "source": [
    "mycursor.execute(\"\"\"SELECT * from VENIT;\"\"\")\n",
    "for result in mycursor:\n",
    "    print(result)"
   ]
  },
  {
   "cell_type": "code",
   "execution_count": null,
   "id": "a93886bc-61c2-476e-b030-c5db7133a870",
   "metadata": {},
   "outputs": [],
   "source": [
    "mycursor.execute(\"\"\"SELECT * from MEMBRU_STAT;\"\"\")\n",
    "for result in mycursor:\n",
    "    print(result)"
   ]
  },
  {
   "cell_type": "code",
   "execution_count": null,
   "id": "66711b79-6723-4df9-9efa-6eef88e2271f",
   "metadata": {},
   "outputs": [],
   "source": [
    "mycursor.execute(\"\"\"SELECT * from MEMBRU_NON_STAT;\"\"\")\n",
    "for result in mycursor:\n",
    "    print(result)"
   ]
  },
  {
   "cell_type": "code",
   "execution_count": null,
   "id": "0797addf-31d0-4bea-9727-27362263c196",
   "metadata": {},
   "outputs": [],
   "source": [
    "mycursor.execute(\"\"\"SELECT * from MEMBRU_PARTID;\"\"\")\n",
    "for result in mycursor:\n",
    "    print(result)"
   ]
  },
  {
   "cell_type": "code",
   "execution_count": null,
   "id": "5b12f84b-fbe4-4be6-aafb-5296347fdff9",
   "metadata": {},
   "outputs": [],
   "source": [
    "mycursor.execute(\"\"\"SELECT * from MEMBRU_SINDICAT;\"\"\")\n",
    "for result in mycursor:\n",
    "    print(result)"
   ]
  },
  {
   "cell_type": "code",
   "execution_count": null,
   "id": "5da2c880-5a9a-4714-b967-ea340fa95950",
   "metadata": {},
   "outputs": [],
   "source": [
    "mycursor.execute(\"\"\"SELECT * from CONTRACT;\"\"\")\n",
    "for result in mycursor:\n",
    "    print(result)"
   ]
  },
  {
   "cell_type": "code",
   "execution_count": 10,
   "id": "7682dbc4-8429-4ad8-9f9a-fa2f8a0f98d7",
   "metadata": {},
   "outputs": [
    {
     "name": "stdout",
     "output_type": "stream",
     "text": [
      "(9, 3, 1, 'ROMANIA', 'Sibiu', 'Sibiu', 'Apartament', 1997, 85, '1/1', 'Contract de vânzare cumpărare', 'IOHANNIS KLAUS IOHANNIS CARMEN')\n",
      "(10, 3, 1, 'ROMANIA', 'Sibiu', 'Sibiu', 'Apartament', 2001, 253, '1/1', 'Contract de vânzare cumpărare', 'IOHANNIS KLAUS IOHANNIS CARMEN')\n",
      "(11, 3, 1, 'ROMANIA', 'Sibiu', 'Sibiu', 'Casă de locuit', 1992, 377, '1/1', 'Contract de donaţie Contract de vânzare cumpărare', 'IOHANNIS KLAUS IOHANNIS CARMEN')\n",
      "(12, 3, 1, 'ROMANIA', 'Sibiu', 'Sibiu', 'Casă de locuit', 2007, 76, '1/1', 'Contract de vânzare cumpărare', 'IOHANNIS KLAUS IOHANNIS CARMEN')\n",
      "(13, 3, 1, 'ROMANIA', 'Sibiu', 'Sibiu', 'Casă de locuit', 2007, 64, '1/1', 'Contract de vânzare cumpărare', 'IOHANNIS KLAUS IOHANNIS CARMEN')\n",
      "(14, 3, 1, 'ROMANIA', 'Sibiu', 'Sibiu', 'Apartament', 2020, 67, '1/1', 'Moştenire', 'IOHANNIS CARMEN')\n"
     ]
    }
   ],
   "source": [
    "mycursor.execute(\"\"\"select * from teren_cladire \n",
    "            where doc_id = '3';\"\"\")\n",
    "for result in mycursor:\n",
    "    print(result)"
   ]
  },
  {
   "cell_type": "code",
   "execution_count": null,
   "id": "1d571a14-db65-40d0-974b-43f7908f8b3d",
   "metadata": {},
   "outputs": [],
   "source": []
  },
  {
   "cell_type": "code",
   "execution_count": null,
   "id": "a84ea76c-a4d7-4bc3-af4c-fa700d123b36",
   "metadata": {},
   "outputs": [],
   "source": []
  }
 ],
 "metadata": {
  "kernelspec": {
   "display_name": "Python 3 (ipykernel)",
   "language": "python",
   "name": "python3"
  },
  "language_info": {
   "codemirror_mode": {
    "name": "ipython",
    "version": 3
   },
   "file_extension": ".py",
   "mimetype": "text/x-python",
   "name": "python",
   "nbconvert_exporter": "python",
   "pygments_lexer": "ipython3",
   "version": "3.12.3"
  }
 },
 "nbformat": 4,
 "nbformat_minor": 5
}

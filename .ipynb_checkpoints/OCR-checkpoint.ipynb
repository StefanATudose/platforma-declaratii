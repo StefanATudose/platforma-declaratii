{
 "cells": [
  {
   "cell_type": "code",
   "execution_count": 1,
   "id": "fa2bd8f1-a366-4b90-96ab-7964fceea64a",
   "metadata": {},
   "outputs": [],
   "source": [
    "import fitz\n",
    "import numpy\n",
    "from PIL import Image\n",
    "import io\n",
    "from matplotlib import pyplot as plt\n",
    "import cv2\n",
    "import numpy as np"
   ]
  },
  {
   "cell_type": "markdown",
   "id": "681658de-23e0-43e2-bc00-0c8064c3868c",
   "metadata": {},
   "source": [
    "## Image processing functions"
   ]
  },
  {
   "cell_type": "code",
   "execution_count": 2,
   "id": "077d93a4-f944-4edb-9ef1-c1cb8bcd224b",
   "metadata": {},
   "outputs": [],
   "source": [
    "def pdf_to_img(path):\n",
    "    pdf = fitz.open(path)\n",
    "    counter = 1\n",
    "    pages = []\n",
    "    for i in range (len(pdf)):\n",
    "        page = pdf[i]\n",
    "        images = page.get_images()\n",
    "        for image in images:\n",
    "            base_img = pdf.extract_image(image[0])\n",
    "            image_data = base_img[\"image\"]\n",
    "            img = Image.open(io.BytesIO(image_data))\n",
    "            #extension = base_img[\"ext\"]\n",
    "            #img.save(open(f\"image{counter}.{extension}\", \"wb\"))\n",
    "            pages.append(img)\n",
    "            #counter += 1\n",
    "\n",
    "    return pages"
   ]
  },
  {
   "cell_type": "code",
   "execution_count": 3,
   "id": "c8139bfa-18f9-4ebf-9cf8-98fb56379791",
   "metadata": {},
   "outputs": [],
   "source": [
    "def display(im_path):\n",
    "    dpi = 80\n",
    "    im_data = plt.imread(im_path)\n",
    "\n",
    "    height, width = im_data.shape[:2]\n",
    "\n",
    "    # What size does the figure need to be in inches to fit the image?\n",
    "    figsize = width / float(dpi), height / float(dpi)\n",
    "\n",
    "    # Create a figure of the right size with one axes that takes up the full figure\n",
    "    fig = plt.figure(figsize=figsize)\n",
    "    ax = fig.add_axes([0, 0, 1, 1])\n",
    "\n",
    "    # Hide spines, ticks, etc.\n",
    "    ax.axis('off')\n",
    "\n",
    "    # Display the image.\n",
    "    ax.imshow(im_data, cmap='gray')\n",
    "\n",
    "    plt.show()"
   ]
  },
  {
   "cell_type": "code",
   "execution_count": 9,
   "id": "24b5e157-a51f-44fd-a3c5-4ddc967fc6f7",
   "metadata": {},
   "outputs": [],
   "source": [
    "def getSkewAngle(cvImage, m) -> float:\n",
    "    # Prep image, copy, convert to gray scale, blur, and threshold\n",
    "    gray = cvImage.copy()\n",
    "    newImage = cvImage.copy()\n",
    "    blur = cv2.GaussianBlur(gray, (9, 9), 0)\n",
    "    thresh = cv2.threshold(blur, 0, 255, cv2.THRESH_BINARY_INV + cv2.THRESH_OTSU)[1]\n",
    "\n",
    "    # Apply dilate to merge text into meaningful lines/paragraphs.\n",
    "    # Use larger kernel on X axis to merge characters into single line, cancelling out any spaces.\n",
    "    # But use smaller kernel on Y axis to separate between different blocks of text\n",
    "    kernel = cv2.getStructuringElement(cv2.MORPH_RECT, (30, 5))\n",
    "    dilate = cv2.dilate(thresh, kernel, iterations=2)\n",
    "\n",
    "    # Find all contours\n",
    "    contours, hierarchy = cv2.findContours(dilate, cv2.RETR_LIST, cv2.CHAIN_APPROX_SIMPLE)\n",
    "    contours = sorted(contours, key = cv2.contourArea, reverse = True)\n",
    "    for c in contours[:1]:\n",
    "        rect = cv2.boundingRect(c)\n",
    "        x,y,w,h = rect\n",
    "        cv2.rectangle(newImage,(x,y),(x+w,y+h),(0,255,0),2)\n",
    "\n",
    "    # Find largest contour and surround in min area box\n",
    "    largestContour = contours[0]\n",
    "    minAreaRect = cv2.minAreaRect(largestContour)\n",
    "    cv2.imwrite(f\"cutie{m}.jpg\", newImage)\n",
    "    # Determine the angle. Convert it to the value that was originally used to obtain skewed image\n",
    "    angle = minAreaRect[-1]\n",
    "    if angle > 45:\n",
    "        angle = angle - 90\n",
    "    return -1.0 * angle\n",
    "# Rotate the image around its center\n",
    "def rotateImage(cvImage, angle: float):\n",
    "    newImage = cvImage.copy()\n",
    "    (h, w) = newImage.shape[:2]\n",
    "    center = (w // 2, h // 2)\n",
    "    M = cv2.getRotationMatrix2D(center, angle, 1.0)\n",
    "    newImage = cv2.warpAffine(newImage, M, (w, h), flags=cv2.INTER_CUBIC, borderMode=cv2.BORDER_REPLICATE)\n",
    "    return newImage\n",
    "\n",
    "# Deskew image\n",
    "def deskew(cvImage, m):\n",
    "    angle = getSkewAngle(cvImage, m)\n",
    "    return rotateImage(cvImage, -1.0 * angle)"
   ]
  },
  {
   "cell_type": "code",
   "execution_count": null,
   "id": "21742ebf-41bd-4008-8e9a-5c3fc54af0c4",
   "metadata": {},
   "outputs": [],
   "source": [
    "def noise_removal(image):\n",
    "    import numpy as np\n",
    "    kernel = np.ones((1, 1), np.uint8)\n",
    "    image = cv2.dilate(image, kernel, iterations=1)\n",
    "    kernel = np.ones((1, 1), np.uint8)\n",
    "    image = cv2.erode(image, kernel, iterations=1)\n",
    "    image = cv2.morphologyEx(image, cv2.MORPH_CLOSE, kernel)\n",
    "    image = cv2.medianBlur(image, 3)\n",
    "    return (image)"
   ]
  },
  {
   "cell_type": "markdown",
   "id": "134382fc-6003-4a3b-a1a2-bda55c177547",
   "metadata": {},
   "source": [
    "## Image preprocessing"
   ]
  },
  {
   "cell_type": "code",
   "execution_count": null,
   "id": "594e64d6-3992-4494-9453-5310d443ca0f",
   "metadata": {},
   "outputs": [],
   "source": [
    "for filename in os.listdir(\"probe\"):"
   ]
  },
  {
   "cell_type": "code",
   "execution_count": 4,
   "id": "ecaa385f-790f-43af-8740-b70c2f442a6a",
   "metadata": {},
   "outputs": [],
   "source": [
    "proba1 = pdf_to_img(\"proba1.pdf\")\n",
    "\n",
    "\n",
    "for i in range(len(proba1)):\n",
    "    proba1[i] = np.array(proba1[i])\n",
    "    thresh, thresholdedPage = cv2.threshold(proba1[i], 200, 255, cv2.THRESH_BINARY)\n",
    "    proba1[i] = thresholdedPage\n",
    "    proba1[i] = noise_removal(proba1[i])\n",
    "    proba1[i] = deskew(proba1[i], i)"
   ]
  }
 ],
 "metadata": {
  "kernelspec": {
   "display_name": "Python 3 (ipykernel)",
   "language": "python",
   "name": "python3"
  },
  "language_info": {
   "codemirror_mode": {
    "name": "ipython",
    "version": 3
   },
   "file_extension": ".py",
   "mimetype": "text/x-python",
   "name": "python",
   "nbconvert_exporter": "python",
   "pygments_lexer": "ipython3",
   "version": "3.12.0"
  }
 },
 "nbformat": 4,
 "nbformat_minor": 5
}
